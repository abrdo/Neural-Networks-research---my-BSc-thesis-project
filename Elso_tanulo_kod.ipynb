{
  "nbformat": 4,
  "nbformat_minor": 0,
  "metadata": {
    "colab": {
      "name": "Elso_tanulo_kod.ipynb",
      "provenance": [],
      "collapsed_sections": [
        "E6fyP6DbZHqX",
        "Q-dBtSryXr_B",
        "7v5CCVbJec7W"
      ]
    },
    "kernelspec": {
      "name": "python2",
      "display_name": "Python 2"
    },
    "accelerator": "GPU"
  },
  "cells": [
    {
      "cell_type": "code",
      "metadata": {
        "id": "sp8mr6UH9iwX"
      },
      "source": [
        "fruits = ['apple', 'banana', 'cherry']\n",
        "fruits = []\n",
        "fruits.append(\"orange\")"
      ],
      "execution_count": null,
      "outputs": []
    },
    {
      "cell_type": "code",
      "metadata": {
        "id": "SHSAwVuZs3u4",
        "colab": {
          "base_uri": "https://localhost:8080/",
          "height": 50
        },
        "outputId": "acbdbdda-5d03-43fb-f09b-5226a6b4f6f0"
      },
      "source": [
        "import random as rand\n",
        "\n",
        "print(\"Ugyanaz:\")\n",
        "letezikek = []\n",
        "iterations = 100000\n",
        "for it in range(iterations):  \n",
        "  birthdays = []\n",
        "  for i in range(100):\n",
        "    random_birthday = rand.randrange(366)\n",
        "    birthdays.append(random_birthday)\n",
        "  letezik = False\n",
        "  for i in range(len(birthdays)):\n",
        "    for j in range(len(birthdays)):\n",
        "      if i != j and birthdays[i] == birthdays[j]:\n",
        "        #print(bd)\n",
        "        letezik = True\n",
        "        letezikek.append(letezik)\n",
        "        break\n",
        "    if letezik:\n",
        "      break\n",
        "\n",
        "\n",
        "print len(letezikek)\n",
        "\n",
        "\n",
        "\n"
      ],
      "execution_count": null,
      "outputs": [
        {
          "output_type": "stream",
          "text": [
            "Ugyanaz:\n",
            "100000\n"
          ],
          "name": "stdout"
        }
      ]
    },
    {
      "cell_type": "code",
      "metadata": {
        "id": "qwmLCRNRZ_CP",
        "colab": {
          "base_uri": "https://localhost:8080/",
          "height": 637
        },
        "outputId": "b5df45d9-4cb5-43d2-93bf-1bb093592d2e"
      },
      "source": [
        "import random as rand\n",
        "import matplotlib.pyplot as plt\n",
        "\n",
        "print(\"Ugyanaz:\")\n",
        "\n",
        "end = 100\n",
        "rit = 20\n",
        "\n",
        "letezikekek = []\n",
        "for r in range(rit):\n",
        "  letezikek = []\n",
        "  iterations = 10000\n",
        "  for it in range(iterations):  \n",
        "    birthdays = []\n",
        "    for i in range(r*end/rit):\n",
        "      random_birthday = rand.randrange(366)\n",
        "      birthdays.append(random_birthday)\n",
        "    letezik = False\n",
        "    for i in range(len(birthdays)):\n",
        "      for j in range(len(birthdays)):\n",
        "        if i != j and birthdays[i] == birthdays[j]:\n",
        "          #print(bd)\n",
        "          letezik = True\n",
        "          letezikek.append(letezik)\n",
        "          break\n",
        "      if letezik:\n",
        "        break\n",
        "  letezikekek.append(len(letezikek))\n",
        "  print len(letezikek)\n",
        "\n",
        "plt.plot(range(0, 100, 5), letezikekek)\n",
        "\n",
        "\n",
        "\n"
      ],
      "execution_count": null,
      "outputs": [
        {
          "output_type": "stream",
          "text": [
            "Ugyanaz:\n",
            "0\n",
            "272\n",
            "1144\n",
            "2581\n",
            "4196\n",
            "5539\n",
            "6999\n",
            "8057\n",
            "8909\n",
            "9410\n",
            "9692\n",
            "9854\n",
            "9957\n",
            "9980\n",
            "9993\n",
            "9998\n",
            "9999\n",
            "10000\n",
            "10000\n",
            "10000\n"
          ],
          "name": "stdout"
        },
        {
          "output_type": "execute_result",
          "data": {
            "text/plain": [
              "[<matplotlib.lines.Line2D at 0x7ff9da663450>]"
            ]
          },
          "metadata": {
            "tags": []
          },
          "execution_count": 37
        },
        {
          "output_type": "display_data",
          "data": {
            "image/png": "[encoded data removed]",
            "text/plain": [
              "<Figure size 432x288 with 1 Axes>"
            ]
          },
          "metadata": {
            "tags": [],
            "needs_background": "light"
          }
        }
      ]
    },
    {
      "cell_type": "markdown",
      "metadata": {
        "id": "RViwcXqeczfp"
      },
      "source": [
        "#Machine learning:"
      ]
    },
    {
      "cell_type": "code",
      "metadata": {
        "id": "t5e-Mg3VYKnT"
      },
      "source": [
        "import tensorflow as tf"
      ],
      "execution_count": null,
      "outputs": []
    },
    {
      "cell_type": "code",
      "metadata": {
        "id": "0BhpoaPxG1mQ",
        "colab": {
          "base_uri": "https://localhost:8080/",
          "height": 33
        },
        "outputId": "bc7e313e-0990-4a3f-9cd9-43d304b2eded"
      },
      "source": [
        "\n",
        "#!mkdir asd\n",
        "!cd asd\n",
        "! pwd\n"
      ],
      "execution_count": null,
      "outputs": [
        {
          "output_type": "stream",
          "text": [
            "/content\n"
          ],
          "name": "stdout"
        }
      ]
    },
    {
      "cell_type": "code",
      "metadata": {
        "id": "SWBVQTOCThCQ",
        "colab": {
          "base_uri": "https://localhost:8080/",
          "height": 84
        },
        "outputId": "de5a15c8-4b39-4be2-ae7d-283bf3476f6f"
      },
      "source": [
        "!pwd\n",
        "%cd asd\n",
        "!pwd"
      ],
      "execution_count": null,
      "outputs": [
        {
          "output_type": "stream",
          "text": [
            "/content/asd\n",
            "[Errno 2] No such file or directory: 'asd'\n",
            "/content/asd\n",
            "/content/asd\n"
          ],
          "name": "stdout"
        }
      ]
    },
    {
      "cell_type": "markdown",
      "metadata": {
        "id": "E6fyP6DbZHqX"
      },
      "source": [
        "#Add two numbers with tensorflow"
      ]
    },
    {
      "cell_type": "code",
      "metadata": {
        "id": "M4wnsUaURWBB"
      },
      "source": [
        "import tensorflow as tf"
      ],
      "execution_count": null,
      "outputs": []
    },
    {
      "cell_type": "markdown",
      "metadata": {
        "id": "bOwHH-IVhFYo"
      },
      "source": [
        "##Constant"
      ]
    },
    {
      "cell_type": "code",
      "metadata": {
        "id": "16seWvVDVtaa",
        "colab": {
          "base_uri": "https://localhost:8080/",
          "height": 50
        },
        "outputId": "c9d9a1f0-5d2b-47be-95b6-804208d53899"
      },
      "source": [
        "num1 = tf.constant([2])\n",
        "num2 = tf.constant([11])\n",
        "\n",
        "result = tf.add(num1,num2)\n",
        "re = result\n",
        "result = 2\n",
        "\n",
        "with tf.Session() as sess1:\n",
        "  with tf.device(\"/gpu:1\"):\n",
        "    r, num =sess1.run([re, num1])\n",
        "    print(r)\n",
        "    print(num1)\n",
        "  \n",
        "\n"
      ],
      "execution_count": null,
      "outputs": [
        {
          "output_type": "stream",
          "text": [
            "[13]\n",
            "Tensor(\"Const_10:0\", shape=(1,), dtype=int32)\n"
          ],
          "name": "stdout"
        }
      ]
    },
    {
      "cell_type": "markdown",
      "metadata": {
        "id": "2iutrAechLVy"
      },
      "source": [
        "##Placeholder"
      ]
    },
    {
      "cell_type": "code",
      "metadata": {
        "id": "tR75GVPvXwqD",
        "colab": {
          "base_uri": "https://localhost:8080/",
          "height": 33
        },
        "outputId": "57456b65-2e43-4b91-ea80-9fe98c127e9b"
      },
      "source": [
        "num1=tf.placeholder(tf.int32, [1])\n",
        "num2=tf.placeholder(tf.int32, [1])\n",
        "\n",
        "result = tf.add(num1, num2)\n",
        "\n",
        "\n",
        "with tf.Session() as sess:\n",
        "  with tf.device(\"/gpu:1\"):\n",
        "    r = sess.run([result], feed_dict={num1: [2], num2: [3]})\n",
        "    print(r)"
      ],
      "execution_count": null,
      "outputs": [
        {
          "output_type": "stream",
          "text": [
            "[array([5], dtype=int32)]\n"
          ],
          "name": "stdout"
        }
      ]
    },
    {
      "cell_type": "code",
      "metadata": {
        "id": "pdOaDYgook5f",
        "colab": {
          "base_uri": "https://localhost:8080/",
          "height": 35
        },
        "outputId": "c695aea9-1256-4217-94f9-2add673509d8"
      },
      "source": [
        "\n",
        "\n",
        "num1= tf.placeholder(tf.int32, [1])\n",
        "num2 = tf.placeholder(tf.int32, [1])\n",
        "\n",
        "result = tf.add(num1, num2)\n",
        "\n",
        "\n",
        "r = tf.Session().run([result], feed_dict={num1: [2], num2: [3]})\n",
        "print(r)"
      ],
      "execution_count": null,
      "outputs": [
        {
          "output_type": "stream",
          "text": [
            "[array([5], dtype=int32)]\n"
          ],
          "name": "stdout"
        }
      ]
    },
    {
      "cell_type": "markdown",
      "metadata": {
        "id": "x1UFkMaehjGa"
      },
      "source": [
        "##Variable training"
      ]
    },
    {
      "cell_type": "code",
      "metadata": {
        "id": "kw6kPsxVceDJ",
        "colab": {
          "base_uri": "https://localhost:8080/",
          "height": 199
        },
        "outputId": "f1f3056c-c49f-4921-d228-c6e98e4b8ade"
      },
      "source": [
        "num1 = tf.placeholder(tf.float32)\n",
        "num2 = tf.Variable([2.0], name=\"variable_to_optimize\", trainable = True)\n",
        " \n",
        "expected_output = tf.placeholder(tf.float32)\n",
        "result = tf.add(num1, num2)\n",
        "\n",
        "with tf.name_scope(\"loss\"):\n",
        "  dif = tf.subtract(result, expected_output)\n",
        "  loss = tf.square(dif)\n",
        "  \n",
        "\n",
        "learning_rate = 0.1\n",
        "with tf.name_scope(\"optimizer\"):\n",
        "  optimizer = tf.train.GradientDescentOptimizer(learning_rate).minimize(loss)\n",
        "  \n",
        "init = tf.global_variables_initializer()\n",
        "\n",
        "with tf.Session() as sess:\n",
        "  with tf.device(\"/gpu:1\"):\n",
        "    sess.run(init)\n",
        "    \n",
        "    for i in range(10):\n",
        "      _, n2, r, l = sess.run([optimizer, num2, result, loss], feed_dict={num1: [2], expected_output: [6]})\n",
        "      print(\"num2: \" + str(n2) + \" result: \"+ str(r) + \" loss: \" + str(l))\n",
        "  "
      ],
      "execution_count": null,
      "outputs": [
        {
          "output_type": "stream",
          "text": [
            "num2: [2.] result: [4.] loss: [0.0720576]\n",
            "num2: [2.4] result: [4.4] loss: [0.0720576]\n",
            "num2: [2.72] result: [4.7200003] loss: [0.0720576]\n",
            "num2: [2.976] result: [4.976] loss: [0.0720576]\n",
            "num2: [3.1808002] result: [5.1808004] loss: [0.0720576]\n",
            "num2: [3.34464] result: [5.34464] loss: [0.0720576]\n",
            "num2: [3.475712] result: [5.475712] loss: [0.0720576]\n",
            "num2: [3.5805697] result: [5.5805697] loss: [0.0720576]\n",
            "num2: [3.664456] result: [5.664456] loss: [0.0720576]\n",
            "num2: [3.7315648] result: [5.7315645] loss: [0.0720576]\n"
          ],
          "name": "stdout"
        }
      ]
    },
    {
      "cell_type": "markdown",
      "metadata": {
        "id": "EyfJYrjVYg18"
      },
      "source": [
        "#Gyakorlás"
      ]
    },
    {
      "cell_type": "code",
      "metadata": {
        "id": "VYBs45V9hht5"
      },
      "source": [
        "import tensorflow as tf"
      ],
      "execution_count": null,
      "outputs": []
    },
    {
      "cell_type": "code",
      "metadata": {
        "id": "eTW_u8ccYe_7",
        "colab": {
          "base_uri": "https://localhost:8080/",
          "height": 54
        },
        "outputId": "8165ed6e-0655-4bd2-d7a8-87a8d63b73e1"
      },
      "source": [
        "a = tf.constant(1.0)\n",
        "b = tf.constant(2.0)\n",
        "c = a + b\n",
        "\n",
        "sess1 = tf.Session()\n",
        "print(sess1.run(c))\n",
        "\n",
        "with tf.Session() as sess2:\n",
        "  print(sess2.run(c))"
      ],
      "execution_count": null,
      "outputs": [
        {
          "output_type": "stream",
          "text": [
            "3.0\n",
            "3.0\n"
          ],
          "name": "stdout"
        }
      ]
    },
    {
      "cell_type": "code",
      "metadata": {
        "id": "E6YCSRudhjpg",
        "colab": {
          "base_uri": "https://localhost:8080/",
          "height": 181
        },
        "outputId": "105510e2-0b65-4270-9710-00433a0b7e51"
      },
      "source": [
        "a = tf.placeholder(tf.float32)\n",
        "b = tf.Variable(2.0)\n",
        "desired = tf.placeholder(tf.float32)\n",
        "\n",
        "#computational graph\n",
        "result = a + b \n",
        "\n",
        "#loss\n",
        "loss = tf.square(tf.subtract(result, desired))\n",
        "#opt\n",
        "opt = tf.train.GradientDescentOptimizer(0.01).minimize(loss)\n",
        "\n",
        "\n",
        "init = tf.global_variables_initializer()\n",
        "with tf.Session() as sess:\n",
        "  sess.run(init)\n",
        "  for i in range(9):\n",
        "    o, l, r, b_ = sess.run([opt, loss, result, b], feed_dict = {a: 1, desired: 11})\n",
        "    print(str(i) + '  l: ' + str(l) + '  r: ' + str(r) + '  b_: ' + str(b_))"
      ],
      "execution_count": null,
      "outputs": [
        {
          "output_type": "stream",
          "text": [
            "0  l: 64.0  r: 3.0  b_: 2.0\n",
            "1  l: 61.465603  r: 3.16  b_: 2.16\n",
            "2  l: 59.03156  r: 3.3168  b_: 2.3168\n",
            "3  l: 56.69391  r: 3.4704642  b_: 2.4704642\n",
            "4  l: 54.448833  r: 3.621055  b_: 2.621055\n",
            "5  l: 52.292656  r: 3.7686338  b_: 2.7686338\n",
            "6  l: 50.221863  r: 3.9132612  b_: 2.9132612\n",
            "7  l: 48.23308  r: 4.054996  b_: 3.054996\n",
            "8  l: 46.323048  r: 4.1938963  b_: 3.193896\n"
          ],
          "name": "stdout"
        }
      ]
    },
    {
      "cell_type": "markdown",
      "metadata": {
        "id": "Q-dBtSryXr_B"
      },
      "source": [
        "#Fully Connected"
      ]
    },
    {
      "cell_type": "code",
      "metadata": {
        "id": "a27xIlcDTvlV"
      },
      "source": [
        "import numpy as np\n",
        "import random\n",
        "import tensorflow as tf\n",
        "from tensorflow.examples.tutorials.mnist import input_data "
      ],
      "execution_count": null,
      "outputs": []
    },
    {
      "cell_type": "code",
      "metadata": {
        "id": "W_Lfy8p4Two_"
      },
      "source": [
        "#read data and display data\n",
        "mnist = input_data.read_data_sets(\"MNIST_data/\", one_hot=True) # we will use one hot encoding, every outputclass is a separate dimension"
      ],
      "execution_count": null,
      "outputs": []
    },
    {
      "cell_type": "code",
      "metadata": {
        "id": "db0_aRkxT0pG",
        "colab": {
          "base_uri": "https://localhost:8080/",
          "height": 108
        },
        "outputId": "b1556a13-93d3-4e39-b2d3-c253e748d646"
      },
      "source": [
        "print(mnist.train.images.shape)\n",
        "print(mnist.train.labels.shape) # we have train images and train labels\n",
        "print(mnist.test.images.shape)\n",
        "print(mnist.test.labels.shape) # ans separate test iamges and labels for evaluation\n",
        "#print(mnist.train.images[0,:])\n",
        "mnist.train.labels[0]"
      ],
      "execution_count": null,
      "outputs": [
        {
          "output_type": "stream",
          "text": [
            "(55000, 784)\n",
            "(55000, 10)\n",
            "(10000, 784)\n",
            "(10000, 10)\n"
          ],
          "name": "stdout"
        },
        {
          "output_type": "execute_result",
          "data": {
            "text/plain": [
              "array([0., 0., 0., 0., 0., 0., 0., 1., 0., 0.])"
            ]
          },
          "metadata": {
            "tags": []
          },
          "execution_count": 4
        }
      ]
    },
    {
      "cell_type": "code",
      "metadata": {
        "id": "kxP1Th0lUEO1",
        "colab": {
          "base_uri": "https://localhost:8080/",
          "height": 269
        },
        "outputId": "dcb5f975-11d9-47a1-e832-a73074bbcf03"
      },
      "source": [
        "#display an image just to get a feel what we are working on\n",
        "import matplotlib.pyplot as plt\n",
        "img= np.reshape(mnist.train.images[5,:],[28,28])\n",
        "\n",
        "plt.imshow(img,cmap=\"Greys\")\n",
        "plt.show()"
      ],
      "execution_count": null,
      "outputs": [
        {
          "output_type": "display_data",
          "data": {
            "image/png": "[encoded data removed]",
            "text/plain": [
              "<Figure size 432x288 with 1 Axes>"
            ]
          },
          "metadata": {
            "tags": []
          }
        }
      ]
    },
    {
      "cell_type": "code",
      "metadata": {
        "id": "cDFEADA5UXTI",
        "colab": {
          "base_uri": "https://localhost:8080/",
          "height": 35
        },
        "outputId": "d616f1df-8769-426e-dde3-24171478b35d"
      },
      "source": [
        "print mnist.train.labels[5]"
      ],
      "execution_count": null,
      "outputs": [
        {
          "output_type": "stream",
          "text": [
            "[0. 0. 0. 0. 0. 0. 0. 0. 1. 0.]\n"
          ],
          "name": "stdout"
        }
      ]
    },
    {
      "cell_type": "markdown",
      "metadata": {
        "id": "gFdqBAvoPMKm"
      },
      "source": [
        "##Próbálás\n"
      ]
    },
    {
      "cell_type": "code",
      "metadata": {
        "id": "gy3etcf1NBeu",
        "colab": {
          "base_uri": "https://localhost:8080/",
          "height": 244
        },
        "outputId": "072d8b66-b6a6-4b13-93cb-69cfb654809b"
      },
      "source": [
        "#variable_scope\n",
        "with tf.compat.v1.variable_scope(\"foo\"):\n",
        "    with tf.compat.v1.variable_scope(\"bar\"):\n",
        "        v = tf.compat.v1.get_variable(\"v\", [1])\n",
        "        assert v.name == \"foo/bar/v:0\"\n",
        "\n",
        "import tensorflow as tf\n",
        "tf.reset_default_graph()\n",
        "a2 = tf.Variable(tf.random_uniform([2, 3, 4], minval=0, maxval=10, dtype=tf.int32))\n",
        "b2 = tf.Variable(tf.random_uniform([2, 3, 4], minval=0, maxval=10, dtype=tf.int32))\n",
        "c2 = tf.add(a2,b2)\n",
        "a = tf.Variable([1,2,3] )\n",
        "a1 = tf.get_variable('a1', [1,2,3])\n",
        "b = tf.Variable([[1,2,3],[4,5,6]] )\n",
        "c = tf.add(a,b)\n",
        "print a\n",
        "\n",
        "sess = tf.Session()\n",
        "sess.run(tf.global_variables_initializer())\n",
        "print '--------------------------------'\n",
        "print sess.run(a2)\n",
        "print sess.run(b2)\n",
        "print '________________________'\n",
        "print sess.run(c2)"
      ],
      "execution_count": null,
      "outputs": [
        {
          "output_type": "error",
          "ename": "NameError",
          "evalue": "ignored",
          "traceback": [
            "\u001b[0;31m\u001b[0m",
            "\u001b[0;31mNameError\u001b[0mTraceback (most recent call last)",
            "\u001b[0;32m<ipython-input-1-bb2b22526f86>\u001b[0m in \u001b[0;36m<module>\u001b[0;34m()\u001b[0m\n\u001b[0;32m----> 1\u001b[0;31m \u001b[0;32mwith\u001b[0m \u001b[0mtf\u001b[0m\u001b[0;34m.\u001b[0m\u001b[0mcompat\u001b[0m\u001b[0;34m.\u001b[0m\u001b[0mv1\u001b[0m\u001b[0;34m.\u001b[0m\u001b[0mvariable_scope\u001b[0m\u001b[0;34m(\u001b[0m\u001b[0;34m\"foo\"\u001b[0m\u001b[0;34m)\u001b[0m\u001b[0;34m:\u001b[0m\u001b[0;34m\u001b[0m\u001b[0;34m\u001b[0m\u001b[0m\n\u001b[0m\u001b[1;32m      2\u001b[0m     \u001b[0;32mwith\u001b[0m \u001b[0mtf\u001b[0m\u001b[0;34m.\u001b[0m\u001b[0mcompat\u001b[0m\u001b[0;34m.\u001b[0m\u001b[0mv1\u001b[0m\u001b[0;34m.\u001b[0m\u001b[0mvariable_scope\u001b[0m\u001b[0;34m(\u001b[0m\u001b[0;34m\"bar\"\u001b[0m\u001b[0;34m)\u001b[0m\u001b[0;34m:\u001b[0m\u001b[0;34m\u001b[0m\u001b[0;34m\u001b[0m\u001b[0m\n\u001b[1;32m      3\u001b[0m         \u001b[0mv\u001b[0m \u001b[0;34m=\u001b[0m \u001b[0mtf\u001b[0m\u001b[0;34m.\u001b[0m\u001b[0mcompat\u001b[0m\u001b[0;34m.\u001b[0m\u001b[0mv1\u001b[0m\u001b[0;34m.\u001b[0m\u001b[0mget_variable\u001b[0m\u001b[0;34m(\u001b[0m\u001b[0;34m\"v\"\u001b[0m\u001b[0;34m,\u001b[0m \u001b[0;34m[\u001b[0m\u001b[0;36m1\u001b[0m\u001b[0;34m]\u001b[0m\u001b[0;34m)\u001b[0m\u001b[0;34m\u001b[0m\u001b[0;34m\u001b[0m\u001b[0m\n\u001b[1;32m      4\u001b[0m         \u001b[0;32massert\u001b[0m \u001b[0mv\u001b[0m\u001b[0;34m.\u001b[0m\u001b[0mname\u001b[0m \u001b[0;34m==\u001b[0m \u001b[0;34m\"foo/bar/v:0\"\u001b[0m\u001b[0;34m\u001b[0m\u001b[0;34m\u001b[0m\u001b[0m\n\u001b[1;32m      5\u001b[0m \u001b[0;34m\u001b[0m\u001b[0m\n",
            "\u001b[0;31mNameError\u001b[0m: name 'tf' is not defined"
          ]
        }
      ]
    },
    {
      "cell_type": "markdown",
      "metadata": {
        "id": "xAzhZ5c6I_4A"
      },
      "source": [
        "##Graph\n"
      ]
    },
    {
      "cell_type": "code",
      "metadata": {
        "id": "mv3TJqk_VwhC"
      },
      "source": [
        "#corss entropy measures similarity between two distributions. If cross entropy is zero, the two distributions are the same\n",
        "with tf.name_scope('loss'):\n",
        "\t    Loss = tf.reduce_mean( tf.losses.softmax_cross_entropy(OneHotLabels,FC)  ) # reduce_mean???\n",
        "\n",
        "with tf.name_scope('optimizer'):    \n",
        "\t    #Use ADAM optimizer this is currently the best performing training algorithm in most cases\n",
        "\t    Optimizer = tf.train.AdamOptimizer(1e-4).minimize(Loss)\n",
        "        #Optimizer = tf.train.GradientDescentOptimizer(LearningRate).minimize(Loss)"
      ],
      "execution_count": null,
      "outputs": []
    },
    {
      "cell_type": "code",
      "metadata": {
        "id": "JzDQrAt6Up1p",
        "colab": {
          "base_uri": "https://localhost:8080/",
          "height": 72
        },
        "outputId": "1ff43d86-ddf4-4c3e-b711-2524749c6bc5"
      },
      "source": [
        "tf.reset_default_graph() #reset the graph\n",
        "InputData = tf.placeholder(tf.float32, [1,784] )  #input images\n",
        "OneHotLabels = tf.placeholder(tf.int32, [1,10]) #the expected outputs, labels\n",
        "\n",
        "\n",
        "NumLayers= [784,128,64,10]\n",
        "\n",
        "CurrentInput=InputData\n",
        "for i in range(len(NumLayers)-1):\n",
        "  with tf.variable_scope('layers'+str(i)):\n",
        "    \n",
        "    #súlyok egy \n",
        "    W =tf.get_variable('W', [NumLayers[i],NumLayers[i+1]])# w[784,128]\n",
        "    Layer=tf.matmul(CurrentInput,W) # matmul - matrix multiplication: inp[1,784]*w[784,128] = Layer[1,128] -----------------------------------------------------------\n",
        "    b =tf.get_variable('b', [1,NumLayers[i+1]])\n",
        "    Layer=tf.add(Layer,b)\n",
        "    Layer=tf.nn.relu(Layer)\n",
        "    \n",
        "    CurrentInput=Layer\n",
        "    print CurrentInput\n",
        "FC=CurrentInput"
      ],
      "execution_count": null,
      "outputs": [
        {
          "output_type": "stream",
          "text": [
            "Tensor(\"layers0/Relu:0\", shape=(1, 128), dtype=float32)\n",
            "Tensor(\"layers1/Relu:0\", shape=(1, 64), dtype=float32)\n",
            "Tensor(\"layers2/Relu:0\", shape=(1, 10), dtype=float32)\n"
          ],
          "name": "stdout"
        }
      ]
    },
    {
      "cell_type": "code",
      "metadata": {
        "id": "hNyO3U9hXaUr"
      },
      "source": [
        "Init = tf.global_variables_initializer()\n",
        "with tf.Session() as Sess:\n",
        "\tSess.run(Init)\n",
        "\t\n",
        "\tStep = 1\n",
        "\t# Keep training until reach max iterations - other stopping criterion could be added\n",
        "\twhile Step < 10000:\n",
        "\t\tUsedInBatch= random.sample( range(mnist.train.images.shape[0]), 1)\n",
        "\t\tbatch_xs = mnist.train.images[UsedInBatch,:]\n",
        "\t\tbatch_ys = mnist.train.labels[UsedInBatch,:]\n",
        "\t\t_,L = Sess.run([Optimizer, Loss], feed_dict={InputData: batch_xs, OneHotLabels: batch_ys})\n",
        "   #Kiiras\n",
        "\t\tif (Step%100)==0:\n",
        "\t\t  print(\"Iteration: \"+str(Step))\n",
        "\t\t  print(\"Loss:\" + str(L))\n",
        "\t\tStep+=1"
      ],
      "execution_count": null,
      "outputs": []
    },
    {
      "cell_type": "markdown",
      "metadata": {
        "id": "kEF4Ti-gRF3N"
      },
      "source": [
        "#Convolutional"
      ]
    },
    {
      "cell_type": "markdown",
      "metadata": {
        "id": "wIf8Uh6YvOJI"
      },
      "source": [
        "##Read and display"
      ]
    },
    {
      "cell_type": "code",
      "metadata": {
        "id": "_KwF5FmzibFs"
      },
      "source": [
        "import numpy as np\n",
        "import random\n",
        "import tensorflow as tf\n",
        "from tensorflow.examples.tutorials.mnist import input_data "
      ],
      "execution_count": null,
      "outputs": []
    },
    {
      "cell_type": "code",
      "metadata": {
        "id": "CGSPMttJiodL"
      },
      "source": [
        "#read data and display data\n",
        "mnist = input_data.read_data_sets(\"MNIST_data/\", one_hot=True) # we will use one hot encoding, every outputclass is a separate dimension"
      ],
      "execution_count": null,
      "outputs": []
    },
    {
      "cell_type": "code",
      "metadata": {
        "id": "3gLRD2Kbipi0",
        "colab": {
          "base_uri": "https://localhost:8080/",
          "height": 108
        },
        "outputId": "3258ae19-3c7c-4c0e-ca25-f062a24eedfc"
      },
      "source": [
        "print(mnist.train.images.shape)\n",
        "print(mnist.train.labels.shape) # we have train images and train labels\n",
        "print(mnist.test.images.shape)\n",
        "print(mnist.test.labels.shape) # ans separate test iamges and labels for evaluation\n",
        "#print(mnist.train.images[0,:])\n",
        "mnist.train.labels[0]"
      ],
      "execution_count": null,
      "outputs": [
        {
          "output_type": "stream",
          "text": [
            "(55000, 784)\n",
            "(55000, 10)\n",
            "(10000, 784)\n",
            "(10000, 10)\n"
          ],
          "name": "stdout"
        },
        {
          "output_type": "execute_result",
          "data": {
            "text/plain": [
              "array([0., 0., 0., 0., 0., 0., 0., 1., 0., 0.])"
            ]
          },
          "metadata": {
            "tags": []
          },
          "execution_count": 4
        }
      ]
    },
    {
      "cell_type": "code",
      "metadata": {
        "id": "JraNCGR0irLf",
        "colab": {
          "base_uri": "https://localhost:8080/",
          "height": 269
        },
        "outputId": "a0b48af0-0b4e-43b2-ee2c-bd6d777caec9"
      },
      "source": [
        "#display an image just to get a feel what we are working on\n",
        "import matplotlib.pyplot as plt\n",
        "img= np.reshape(mnist.train.images[1,:],[28,28])\n",
        "\n",
        "plt.imshow(img,cmap=\"Greys\")\n",
        "plt.show()"
      ],
      "execution_count": null,
      "outputs": [
        {
          "output_type": "display_data",
          "data": {
            "image/png": "[encoded data removed]",
            "text/plain": [
              "<Figure size 432x288 with 1 Axes>"
            ]
          },
          "metadata": {
            "tags": []
          }
        }
      ]
    },
    {
      "cell_type": "markdown",
      "metadata": {
        "id": "WufpoBAeu_uv"
      },
      "source": [
        "##Parameters"
      ]
    },
    {
      "cell_type": "code",
      "metadata": {
        "id": "hphVlE2Nis9f"
      },
      "source": [
        "#the parameters of the algorithm\n",
        "BatchLength_train= 32  #batches of 32 images are processed and averaged out\n",
        "BatchLength_test = 32\n",
        "\n",
        "NumIteration= 10000 #--------------------------15000 esetén kb 2 perc futás\n",
        "Runnings = 10\n",
        "\n",
        "Size=[28,28,1]  #size of the input image\n",
        "LearningRate=1e-4 #initial learning rate\n",
        "NumClasses = 10 #number of possible output classes\n",
        "EvalFreq = NumIteration # we will evaluate at every 1000 step"
      ],
      "execution_count": null,
      "outputs": []
    },
    {
      "cell_type": "markdown",
      "metadata": {
        "id": "7v5CCVbJec7W"
      },
      "source": [
        "##Building up the graph"
      ]
    },
    {
      "cell_type": "markdown",
      "metadata": {
        "id": "w58fAQUMhikR"
      },
      "source": [
        "ReLU, NEM batchnorm:"
      ]
    },
    {
      "cell_type": "code",
      "metadata": {
        "id": "SlWJqEkOiywi",
        "colab": {
          "base_uri": "https://localhost:8080/",
          "height": 255
        },
        "outputId": "c9be3e72-0bbd-49e8-b12b-a24ca7dd83c7"
      },
      "source": [
        "tf.reset_default_graph() #reset the graph\n",
        "InputData = tf.placeholder(tf.float32, [None]+Size )  #input images\n",
        "OneHotLabels = tf.placeholder(tf.int32, [None, NumClasses]) #the expected outputs, labels\n",
        "KeepProb = tf.placeholder(tf.float32 )  #input image\n",
        "print(InputData)\n",
        "NumKernels=[32,64,128] #a list that defined the number of layers and how many convolution kernels we have at each layer\n",
        "\n",
        "def CNNReLU(x):\n",
        "  x=tf.maximum(-1.0,x)\n",
        "  x=tf.minimum(1.0,x)\n",
        "  return x\n",
        "\n",
        "def LeakyReLU(x):\n",
        "  x = tf.maximum(x, -1.0+0.01*(x+1.0))\n",
        "  x = tf.minimum(x, 1.0-0.01*(x-1.0))\n",
        "  return x\n",
        "\n",
        "CurrentInput=InputData\n",
        "CurrentFilters=Size[2]\n",
        "LayerNum=0\n",
        "# a loop which creates all layers\n",
        "for N in NumKernels:\n",
        "    with tf.variable_scope('conv'+str(LayerNum)):\n",
        "      LayerNum+=1\n",
        "      #variables that we want to optimize\n",
        "      W =tf.get_variable('W', [3,3,CurrentFilters,N])\n",
        "      Bias = tf.get_variable('Bias', [N],initializer=tf.constant_initializer(0.0))\n",
        "      #convolution\n",
        "      ConvResult = tf.nn.conv2d(CurrentInput,W,strides=[1,1,1,1], padding='SAME')#.------\n",
        "      CurrentFilters=N\n",
        "      #we add a bias\n",
        "      ConvResult = tf.add(ConvResult,Bias)\n",
        "      #-----------------------------------------------------------------------batchnorm------------------------------------------------------------\n",
        "      '''\n",
        "      beta = tf.get_variable('beta',[N],initializer=tf.constant_initializer(0.0)) # itt NumKernel az adott rétegben taláhlató feature-ök/castornák száma\n",
        "      gamma = tf.get_variable('gamma',[N],initializer=tf.constant_initializer(1.0)) #itt is hasonló az előzőhöz\n",
        "      Mean,Variance = tf.nn.moments(ConvResult,[0,1,2]) #ConvResult az adat, amit normalizálni szeretnénk (ezt általában a convolució után szokták tenni, s így nicns szükség külön bias-ra)\n",
        "      ConvResult = tf.nn.batch_normalization(ConvResult,Mean,Variance,beta,gamma,1e-10)\n",
        "      print(ConvResult)\n",
        "      '''\n",
        "      # relu----------------------------------------------------------------------------------------------ReLU------------------------------\n",
        "      ReLU=tf.nn.relu(ConvResult)\n",
        "      #ReLU=CNNReLU(ConvResult)\n",
        "      #ReLU=LeakyReLU(ConvResult)\n",
        "      #pool\n",
        "      Pooled=tf.nn.max_pool(ReLU,ksize=[1,3,3,1],strides=[1,1,1,1],padding='SAME') #[1,3,3,1], [1,1,1,1] így cnn kompatibilis----------------------------\n",
        "      CurrentInput=Pooled\n",
        "      print(Pooled)\n",
        "    #we have generated feature maps, we will use a fully connected layer with ten neurons, one for each class\n",
        "    #the response of these neruons will represent how \"strongly\" the element belong to this class\n",
        "with tf.variable_scope('FC'):\n",
        "\t    CurrentShape=CurrentInput.get_shape()\n",
        "\t    FeatureLength = int(CurrentShape[1]*CurrentShape[2]*CurrentShape[3])\n",
        "\t    FC = tf.reshape(CurrentInput, [-1, FeatureLength])\n",
        "\t    FC = tf.nn.dropout(FC,KeepProb)\n",
        "\t    W = tf.get_variable('W',[FeatureLength,NumClasses])\n",
        "\t    FC = tf.matmul(FC, W)\n",
        "\t    Bias = tf.get_variable('Bias',[NumClasses])\n",
        "\t    FC = tf.add(FC, Bias)\n",
        "print(FC)\n",
        "print(ReLU)"
      ],
      "execution_count": null,
      "outputs": [
        {
          "output_type": "stream",
          "text": [
            "W0620 19:45:40.677444 140445284788096 deprecation.py:506] From /usr/local/lib/python2.7/dist-packages/tensorflow/python/ops/init_ops.py:1251: calling __init__ (from tensorflow.python.ops.init_ops) with dtype is deprecated and will be removed in a future version.\n",
            "Instructions for updating:\n",
            "Call initializer instance with the dtype argument instead of passing it to the constructor\n",
            "W0620 19:45:40.738684 140445284788096 deprecation.py:506] From <ipython-input-7-c9a327ab4e74>:55: calling dropout (from tensorflow.python.ops.nn_ops) with keep_prob is deprecated and will be removed in a future version.\n",
            "Instructions for updating:\n",
            "Please use `rate` instead of `keep_prob`. Rate should be set to `rate = 1 - keep_prob`.\n"
          ],
          "name": "stderr"
        },
        {
          "output_type": "stream",
          "text": [
            "Tensor(\"Placeholder:0\", shape=(?, 28, 28, 1), dtype=float32)\n",
            "Tensor(\"conv0/MaxPool:0\", shape=(?, 28, 28, 32), dtype=float32)\n",
            "Tensor(\"conv1/MaxPool:0\", shape=(?, 28, 28, 64), dtype=float32)\n",
            "Tensor(\"conv2/MaxPool:0\", shape=(?, 28, 28, 128), dtype=float32)\n",
            "Tensor(\"FC/Add:0\", shape=(?, 10), dtype=float32)\n",
            "Tensor(\"conv2/Relu:0\", shape=(?, 28, 28, 128), dtype=float32)\n"
          ],
          "name": "stdout"
        }
      ]
    },
    {
      "cell_type": "markdown",
      "metadata": {
        "id": "S7Go7dJphsb6"
      },
      "source": [
        "CNNReLU, Batchnorm"
      ]
    },
    {
      "cell_type": "code",
      "metadata": {
        "id": "501gWZcohsDQ",
        "colab": {
          "base_uri": "https://localhost:8080/",
          "height": 181
        },
        "outputId": "99cca922-42aa-42ef-edbe-ce0fdb16d2bc"
      },
      "source": [
        "tf.reset_default_graph() #reset the graph\n",
        "InputData = tf.placeholder(tf.float32, [None]+Size )  #input images\n",
        "OneHotLabels = tf.placeholder(tf.int32, [None, NumClasses]) #the expected outputs, labels\n",
        "KeepProb = tf.placeholder(tf.float32 )  #input image\n",
        "print(InputData)\n",
        "NumKernels=[32,64,128] #a list that defined the number of layers and how many convolution kernels we have at each layer\n",
        "\n",
        "def CNNReLU(x):\n",
        "  x=tf.maximum(-1.0,x)\n",
        "  x=tf.minimum(1.0,x)\n",
        "  return x\n",
        "\n",
        "def LeakyReLU(x):\n",
        "  x = tf.maximum(x, -1.0+0.01*(x+1.0))\n",
        "  x = tf.minimum(x, 1.0-0.01*(x-1.0))\n",
        "  return x\n",
        "\n",
        "CurrentInput=InputData\n",
        "CurrentFilters=Size[2]\n",
        "LayerNum=0\n",
        "# a loop which creates all layers\n",
        "for N in NumKernels:\n",
        "    with tf.variable_scope('conv'+str(LayerNum)):\n",
        "      LayerNum+=1\n",
        "      #variables that we want to optimize\n",
        "      W =tf.get_variable('W', [3,3,CurrentFilters,N])\n",
        "      Bias = tf.get_variable('Bias', [N],initializer=tf.constant_initializer(0.0))\n",
        "      #convolution\n",
        "      ConvResult = tf.nn.conv2d(CurrentInput,W,strides=[1,1,1,1], padding='SAME')#--------VALID-->SAME\n",
        "      CurrentFilters=N\n",
        "      #we adda bias\n",
        "      ##ConvResult = tf.add(ConvResult,Bias)\n",
        "      #-----------------------------------------------------------------------batchnorm------------------------------------------------------------\n",
        "      \n",
        "      beta = tf.get_variable('beta',[N],initializer=tf.constant_initializer(0.0)) # itt NumKernel az adott rétegben taláhlató feature-ök/castornák száma\n",
        "      gamma = tf.get_variable('gamma',[N],initializer=tf.constant_initializer(1.0)) #itt is hasonló az előzőhöz\n",
        "      Mean,Variance = tf.nn.moments(ConvResult,[0,1,2]) #ConvResult az adat, amit normalizálni szeretnénk (ezt általában a convolució után szokták tenni, s így nicns szükség külön bias-ra)\n",
        "      ConvResult = tf.nn.batch_normalization(ConvResult,Mean,Variance,beta,gamma,1e-10)\n",
        "      print(ConvResult)\n",
        "      \n",
        "      # relu----------------------------------------------------------------------------------------------ReLU------------------------------\n",
        "      #ReLU=tf.nn.relu(ConvResult)\n",
        "      ReLU=CNNReLU(ConvResult)\n",
        "      #ReLU=LeakyReLU(ConvResult)\n",
        "      #pool\n",
        "      Pooled=tf.nn.max_pool(ReLU,ksize=[1,3,3,1],strides=[1,1,1,1],padding='SAME') #[1,2,2,1],strides=[1,2,2,1] VALID így cnn kompatibilis----------------------------\n",
        "      CurrentInput=Pooled\n",
        "      print(Pooled)\n",
        "    #we have generated feature maps, we will use a fully connected layer with ten neurons, one for each class\n",
        "    #the response of these neruons will represent how \"strongly\" the element belong to this class\n",
        "with tf.variable_scope('FC'):\n",
        "\t    CurrentShape=CurrentInput.get_shape()\n",
        "\t    FeatureLength = int(CurrentShape[1]*CurrentShape[2]*CurrentShape[3])\n",
        "\t    FC = tf.reshape(CurrentInput, [-1, FeatureLength])\n",
        "\t    FC = tf.nn.dropout(FC,KeepProb)\n",
        "\t    W = tf.get_variable('W',[FeatureLength,NumClasses])\n",
        "\t    FC = tf.matmul(FC, W)\n",
        "\t    Bias = tf.get_variable('Bias',[NumClasses])\n",
        "\t    FC = tf.add(FC, Bias)\n",
        "print(FC)\n",
        "print(ReLU)"
      ],
      "execution_count": null,
      "outputs": [
        {
          "output_type": "stream",
          "text": [
            "Tensor(\"Placeholder:0\", shape=(?, 28, 28, 1), dtype=float32)\n",
            "Tensor(\"conv0/batchnorm/add_1:0\", shape=(?, 28, 28, 32), dtype=float32)\n",
            "Tensor(\"conv0/MaxPool:0\", shape=(?, 28, 28, 32), dtype=float32)\n",
            "Tensor(\"conv1/batchnorm/add_1:0\", shape=(?, 28, 28, 64), dtype=float32)\n",
            "Tensor(\"conv1/MaxPool:0\", shape=(?, 28, 28, 64), dtype=float32)\n",
            "Tensor(\"conv2/batchnorm/add_1:0\", shape=(?, 28, 28, 128), dtype=float32)\n",
            "Tensor(\"conv2/MaxPool:0\", shape=(?, 28, 28, 128), dtype=float32)\n",
            "Tensor(\"FC/Add:0\", shape=(?, 10), dtype=float32)\n",
            "Tensor(\"conv2/Minimum:0\", shape=(?, 28, 28, 128), dtype=float32)\n"
          ],
          "name": "stdout"
        }
      ]
    },
    {
      "cell_type": "markdown",
      "metadata": {
        "id": "fJI6TrEliDNk"
      },
      "source": [
        "Loss, Optimizer, Accuracy"
      ]
    },
    {
      "cell_type": "code",
      "metadata": {
        "id": "xcQJU005i0Sc"
      },
      "source": [
        "#we use softmax to normalize the outputs of the network \n",
        "#sotfmax comes from the logistic regression and is e^i / sum(e^j) for all i and j\n",
        "#this will normlaize all the values between zero and one and the sum of values will be 1\n",
        "\n",
        "#corss entropy measures similarity between two distributions. If cross entropy is zero, the two distributions are the same\n",
        "with tf.name_scope('loss'):\n",
        "\t    Loss = tf.reduce_mean( tf.losses.softmax_cross_entropy(OneHotLabels,FC)  )\n",
        "\n",
        "with tf.name_scope('optimizer'):    \n",
        "\t    #Use ADAM optimizer this is currently the best performing training algorithm in most cases\n",
        "\t    Optimizer = tf.train.AdamOptimizer(LearningRate).minimize(Loss)\n",
        "        #Optimizer = tf.train.GradientDescentOptimizer(LearningRate).minimize(Loss)\n",
        "\n",
        "with tf.name_scope('accuracy'):\t  \n",
        "\t    CorrectPredictions = tf.equal(tf.argmax(FC, 1), tf.argmax(OneHotLabels, 1))\n",
        "\t    Accuracy = tf.reduce_mean(tf.cast(CorrectPredictions, tf.float32))\n",
        "\t      "
      ],
      "execution_count": null,
      "outputs": []
    },
    {
      "cell_type": "markdown",
      "metadata": {
        "id": "-SnUMeFBu15F"
      },
      "source": [
        "##Running"
      ]
    },
    {
      "cell_type": "code",
      "metadata": {
        "id": "mC7-cBT_i3UR"
      },
      "source": [
        "accuracies=[]\n",
        "for n in range(Runnings):\n",
        "  print(\"--\"+str(n)+\"--------------------------------\")\n",
        "  \n",
        "  Init = tf.global_variables_initializer()\n",
        "\n",
        "  train_images = random.sample(range(mnist.train.images.shape[0]), 50)\n",
        "\n",
        "  with tf.Session() as Sess:\n",
        "    Sess.run(Init)\n",
        "\n",
        "    Step = 1\n",
        "    # Keep training until reach max iterations - other stopping criterion could be added\n",
        "    while Step <= NumIteration:\n",
        "      #UsedInBatch= random.sample( range(mnist.train.images.shape[0]), BatchLength) #bl db random szám generálása 1->55000-ig \n",
        "      UsedInBatch= random.sample( train_images, BatchLength_train)\n",
        "      batch_xs = mnist.train.images[UsedInBatch,:]\n",
        "      batch_ys = mnist.train.labels[UsedInBatch,:]\n",
        "      batch_xs=np.reshape(batch_xs,[BatchLength_train]+Size)\n",
        "      _,Acc,L = Sess.run([Optimizer, Accuracy, Loss], feed_dict={InputData: batch_xs, OneHotLabels: batch_ys,KeepProb:0.8})\n",
        "      if (Step%(NumIteration/10))==0: #-------------------------------------------------\n",
        "        print(\"Iteration: \"+str(Step))\n",
        "        print(\"Accuracy:\" + str(Acc))\n",
        "        print(\"Loss:\" + str(L))\n",
        "\n",
        "      '''\n",
        "      #independent test accuracy\n",
        "      if (Step%EvalFreq)==0:\n",
        "        SumAcc=0.0\n",
        "        for i in range(0,mnist.test.images.shape[0]):\n",
        "          batch_xs = mnist.test.images[i,:]\n",
        "          batch_ys = mnist.test.labels[i,:]\n",
        "          batch_xs=np.reshape(batch_xs,[1]+Size)\n",
        "          batch_ys=np.reshape(batch_ys,[1,NumClasses])\n",
        "          a = Sess.run(Accuracy, feed_dict={InputData: batch_xs, OneHotLabels: batch_ys,KeepProb:1.0})\n",
        "          SumAcc+=a  \n",
        "        print(\"Independent Test set: \"+str(float(SumAcc)/mnist.test.images.shape[0]))\n",
        "      Step+=1\n",
        "      '''\n",
        "      \n",
        "      #independent test accuracy\n",
        "      if (Step%EvalFreq)==0:\n",
        "        SumAcc=0.0\n",
        "        for i in range(0, mnist.test.images.shape[0]-BatchLength_test, BatchLength_test):\n",
        "          batch_xs = mnist.test.images[i:i+BatchLength_test,:]\n",
        "          batch_ys = mnist.test.labels[i:i+BatchLength_test,:]\n",
        "          batch_xs = np.reshape(batch_xs,[BatchLength_test]+Size)\n",
        "          batch_ys = np.reshape(batch_ys,[BatchLength_test,NumClasses])\n",
        "          a = Sess.run(Accuracy, feed_dict={InputData: batch_xs, OneHotLabels: batch_ys, KeepProb:1.0})\n",
        "          SumAcc+=a\n",
        "        accuracies.extend([float(SumAcc)/mnist.test.images.shape[0]*BatchLength_test])\n",
        "        print(str(float(SumAcc)/mnist.test.images.shape[0]*BatchLength_test))\n",
        "      Step+=1\n",
        "      #'''"
      ],
      "execution_count": null,
      "outputs": []
    },
    {
      "cell_type": "code",
      "metadata": {
        "id": "aJaqcobJkztg",
        "colab": {
          "base_uri": "https://localhost:8080/",
          "height": 108
        },
        "outputId": "51d5867c-7b22-46d5-858c-4430f0a28ab8"
      },
      "source": [
        "for i in range(0, len(accuracies)):\n",
        "  print accuracies[i]\n"
      ],
      "execution_count": null,
      "outputs": [
        {
          "output_type": "stream",
          "text": [
            "0.6191\n",
            "0.7388\n",
            "0.6353\n",
            "0.6524\n",
            "0.7071\n"
          ],
          "name": "stdout"
        }
      ]
    },
    {
      "cell_type": "code",
      "metadata": {
        "id": "rK8iTnjuhFJH"
      },
      "source": [
        "accuracies=[]\n",
        "for n in range(Runnings):\n",
        "  print(\"--\"+str(n)+\"--------------------------------\")\n",
        "  \n",
        "  Init = tf.global_variables_initializer()\n",
        "\n",
        "  train_images = random.sample(range(mnist.train.images.shape[0]), 50)\n",
        "\n",
        "  with tf.Session() as Sess:\n",
        "    Sess.run(Init)\n",
        "\n",
        "    Step = 1\n",
        "    # Keep training until reach max iterations - other stopping criterion could be added\n",
        "    while Step <= NumIteration:\n",
        "      #UsedInBatch= random.sample( range(mnist.train.images.shape[0]), BatchLength) #bl db random szám generálása 1->55000-ig \n",
        "      UsedInBatch= random.sample( train_images, BatchLength_train)\n",
        "      batch_xs = mnist.train.images[UsedInBatch,:]\n",
        "      batch_ys = mnist.train.labels[UsedInBatch,:]\n",
        "      batch_xs=np.reshape(batch_xs,[BatchLength_train]+Size)\n",
        "      _,Acc,L = Sess.run([Optimizer, Accuracy, Loss], feed_dict={InputData: batch_xs, OneHotLabels: batch_ys,KeepProb:0.8})\n",
        "      if (Step%(NumIteration/10))==0: #-------------------------------------------------\n",
        "        print(\"Iteration: \"+str(Step))\n",
        "        print(\"Accuracy:\" + str(Acc))\n",
        "        print(\"Loss:\" + str(L))\n",
        "\n",
        "      '''\n",
        "      #independent test accuracy\n",
        "      if (Step%EvalFreq)==0:\n",
        "        SumAcc=0.0\n",
        "        for i in range(0,mnist.test.images.shape[0]):\n",
        "          batch_xs = mnist.test.images[i,:]\n",
        "          batch_ys = mnist.test.labels[i,:]\n",
        "          batch_xs=np.reshape(batch_xs,[1]+Size)\n",
        "          batch_ys=np.reshape(batch_ys,[1,NumClasses])\n",
        "          a = Sess.run(Accuracy, feed_dict={InputData: batch_xs, OneHotLabels: batch_ys,KeepProb:1.0})\n",
        "          SumAcc+=a  \n",
        "        print(\"Independent Test set: \"+str(float(SumAcc)/mnist.test.images.shape[0]))\n",
        "      Step+=1\n",
        "      '''\n",
        "      \n",
        "      #independent test accuracy\n",
        "      if (Step%EvalFreq)==0:\n",
        "        SumAcc=0.0\n",
        "        for i in range(0, mnist.test.images.shape[0]-BatchLength_test, BatchLength_test):\n",
        "          batch_xs = mnist.test.images[i:i+BatchLength_test,:]\n",
        "          batch_ys = mnist.test.labels[i:i+BatchLength_test,:]\n",
        "          batch_xs = np.reshape(batch_xs,[BatchLength_test]+Size)\n",
        "          batch_ys = np.reshape(batch_ys,[BatchLength_test,NumClasses])\n",
        "          a = Sess.run(Accuracy, feed_dict={InputData: batch_xs, OneHotLabels: batch_ys, KeepProb:1.0})\n",
        "          SumAcc+=a\n",
        "        accuracies.extend([float(SumAcc)/mnist.test.images.shape[0]*BatchLength_test])\n",
        "        print(str(float(SumAcc)/mnist.test.images.shape[0]*BatchLength_test))\n",
        "      Step+=1\n",
        "      #'''"
      ],
      "execution_count": null,
      "outputs": []
    },
    {
      "cell_type": "markdown",
      "metadata": {
        "id": "W09NYEbDK4Aq"
      },
      "source": [
        "#Hasznosságok"
      ]
    },
    {
      "cell_type": "markdown",
      "metadata": {
        "id": "gfYjyDfaI2LU"
      },
      "source": [
        "##tf.Variable() vs tf.get_variable()\n",
        "tf.Variable(init_value, name= optional)\n",
        "\n",
        "tf.get_variable() (initializer)"
      ]
    },
    {
      "cell_type": "code",
      "metadata": {
        "id": "6rjddjtsIo_2",
        "colab": {
          "base_uri": "https://localhost:8080/",
          "height": 264
        },
        "outputId": "62bb7792-b9bc-4fa4-bc3d-c439966645c8"
      },
      "source": [
        "tf.reset_default_graph()\n",
        "\n",
        "a0 =tf.Variable([[2,2,2],[2,2,2]]) # inicializálás az alap paraméter, name = optional\n",
        "a = tf.get_variable('a1', [2,3])#, initializer = tf.constant_initializer(3.0)) #--ha nincs initializer akkor a default init. random valuekkal tölti fel a  variable-t\n",
        "                                #  initializer = tf.random_initializer( vannak paraméterei)\n",
        "\n",
        "sess = tf.Session()\n",
        "sess.run(tf.global_variables_initializer())\n",
        "#a_val = sess.run(a.initializer)\n",
        "a_val = sess.run(a)\n",
        "print a_val\n"
      ],
      "execution_count": null,
      "outputs": [
        {
          "output_type": "error",
          "ename": "NameError",
          "evalue": "ignored",
          "traceback": [
            "\u001b[0;31m\u001b[0m",
            "\u001b[0;31mNameError\u001b[0mTraceback (most recent call last)",
            "\u001b[0;32m<ipython-input-1-8bb8a01bc94a>\u001b[0m in \u001b[0;36m<module>\u001b[0;34m()\u001b[0m\n\u001b[0;32m----> 1\u001b[0;31m \u001b[0mtf\u001b[0m\u001b[0;34m.\u001b[0m\u001b[0mreset_default_graph\u001b[0m\u001b[0;34m(\u001b[0m\u001b[0;34m)\u001b[0m\u001b[0;34m\u001b[0m\u001b[0;34m\u001b[0m\u001b[0m\n\u001b[0m\u001b[1;32m      2\u001b[0m \u001b[0;34m\u001b[0m\u001b[0m\n\u001b[1;32m      3\u001b[0m \u001b[0ma0\u001b[0m \u001b[0;34m=\u001b[0m\u001b[0mtf\u001b[0m\u001b[0;34m.\u001b[0m\u001b[0mVariable\u001b[0m\u001b[0;34m(\u001b[0m\u001b[0;34m[\u001b[0m\u001b[0;34m[\u001b[0m\u001b[0;36m2\u001b[0m\u001b[0;34m,\u001b[0m\u001b[0;36m2\u001b[0m\u001b[0;34m,\u001b[0m\u001b[0;36m2\u001b[0m\u001b[0;34m]\u001b[0m\u001b[0;34m,\u001b[0m\u001b[0;34m[\u001b[0m\u001b[0;36m2\u001b[0m\u001b[0;34m,\u001b[0m\u001b[0;36m2\u001b[0m\u001b[0;34m,\u001b[0m\u001b[0;36m2\u001b[0m\u001b[0;34m]\u001b[0m\u001b[0;34m]\u001b[0m\u001b[0;34m)\u001b[0m \u001b[0;31m# inicializálás az alap paraméter, name = optional\u001b[0m\u001b[0;34m\u001b[0m\u001b[0;34m\u001b[0m\u001b[0m\n\u001b[1;32m      4\u001b[0m \u001b[0ma\u001b[0m \u001b[0;34m=\u001b[0m \u001b[0mtf\u001b[0m\u001b[0;34m.\u001b[0m\u001b[0mget_variable\u001b[0m\u001b[0;34m(\u001b[0m\u001b[0;34m'a1'\u001b[0m\u001b[0;34m,\u001b[0m \u001b[0;34m[\u001b[0m\u001b[0;36m2\u001b[0m\u001b[0;34m,\u001b[0m\u001b[0;36m3\u001b[0m\u001b[0;34m]\u001b[0m\u001b[0;34m)\u001b[0m\u001b[0;31m#, initializer = tf.constant_initializer(3.0)) #--ha nincs initializer akkor a default init. random valuekkal tölti fel a  variable-t\u001b[0m\u001b[0;34m\u001b[0m\u001b[0;34m\u001b[0m\u001b[0m\n\u001b[1;32m      5\u001b[0m                                 \u001b[0;31m#  initializer = tf.random_initializer( vannak paraméterei)\u001b[0m\u001b[0;34m\u001b[0m\u001b[0;34m\u001b[0m\u001b[0;34m\u001b[0m\u001b[0m\n",
            "\u001b[0;31mNameError\u001b[0m: name 'tf' is not defined"
          ]
        }
      ]
    },
    {
      "cell_type": "markdown",
      "metadata": {
        "id": "3i7EMTF6Hjsn"
      },
      "source": [
        "##Get variable by name\n",
        "v1 = sess.graph.get_tensor_by_name(\"foo/v:0\")"
      ]
    },
    {
      "cell_type": "code",
      "metadata": {
        "id": "CZha83DsgySJ",
        "colab": {
          "base_uri": "https://localhost:8080/",
          "height": 72
        },
        "outputId": "945b3b65-3e84-4bc8-b935-2ef4c4cd1d31"
      },
      "source": [
        "#--GET VALUE OF VARIABLE from var_scope by NAME\n",
        "\n",
        "  # 1.) reuse varscope\n",
        "with tf.variable_scope('foo'):\n",
        "  v = tf.get_variable('v', [1])\n",
        "\n",
        "with tf.variable_scope(\"foo\", reuse=True):\n",
        "    v1 = tf.get_variable(\"v\")\n",
        "    \n",
        "  # 2.) In sesssion with sess.graph.get_tensor_by_name(\"foo/v:0\")\n",
        "sess = tf.Session()\n",
        "v1 = sess.graph.get_tensor_by_name(\"foo/v:0\") #----sess.graph.get_tensor_by_name(\"foo/v:0\") :))) ---------------------\n",
        "sess.run(tf.global_variables_initializer())\n",
        "v1_val = sess.run(v1)\n",
        "print v1_val\n"
      ],
      "execution_count": null,
      "outputs": [
        {
          "output_type": "stream",
          "text": [
            "[[-0.59134656 -0.48534626  1.0630517 ]\n",
            " [-0.593993   -0.26181072 -0.2747861 ]]\n",
            "[-0.6413442]\n"
          ],
          "name": "stdout"
        }
      ]
    },
    {
      "cell_type": "markdown",
      "metadata": {
        "id": "ZjHxN1qZXhmt"
      },
      "source": [
        "\n",
        "# MatchNet graph indent phenomenon\n",
        "\n",
        "*  nem dob hibát az 'FC' name_scope utáni get_variable-öknél, hogy a változó már létezik, és nincs reuse\n",
        "*  Érdekes jelenség, hogy ha bárhova beírok bármit a 'FC' namescope után és a return FC előtt, a rákövetkező sorra azt írja, hogy \"unexpected indentation\"\n",
        "* HEUREKA: ha kitörlöm a 'TaBokat' (amik nem biztos h TABok) és újraütöm őkat, akkor már dobja a hibát.\n",
        "          Ezek szerint alapból **benne van a W és Bias az FC-ben**, \n",
        "          így nem kell újratanítani a hálót. :)\n",
        "\n"
      ]
    },
    {
      "cell_type": "markdown",
      "metadata": {
        "id": "soVsuElZU8sH"
      },
      "source": [
        "##Itt ezzel szemben normálisan dobja a hibákat:"
      ]
    },
    {
      "cell_type": "code",
      "metadata": {
        "id": "kXPQDLVJJz9c"
      },
      "source": [
        "tf.reset_default_graph()\n",
        "def func(First):\n",
        "  a = 2\n",
        "  with tf.variable_scope(\"alma\", reuse = not First) as varscope:\n",
        "    tf.get_variable('in_scope', [2,3], initializer = tf.constant_initializer(2))\n",
        "  tf.get_variable('out_scope', [2,3], initializer = tf.constant_initializer(2))\n",
        "  return a\n",
        "  \n",
        "func(First = True)\n",
        "func(First = False)"
      ],
      "execution_count": null,
      "outputs": []
    },
    {
      "cell_type": "markdown",
      "metadata": {
        "id": "qU045g3ZSYrv"
      },
      "source": [
        "###Param"
      ]
    },
    {
      "cell_type": "code",
      "metadata": {
        "id": "EmcqYQC55tO2"
      },
      "source": [
        "train_nums = [2, 3, 4] # 3elemű, növekvő sorrned  #beégetve a gráfnál, illetve az optim-nál (megoldás: rekurzív ciklus)\n",
        "test_nums = [7, 8, 9]\n",
        "\n",
        "#Iterations\n",
        "TrainIter=5000\n",
        "OptIter = 100 # queries per suppSets\n",
        "ValidIter = 5000\n",
        "\n",
        "\n",
        "\n",
        "#Graph params:\n",
        "batchS=32\n",
        "size=[28,28,1] # 28*28 1 csatornás\n",
        "nKernels = [16, 32, 64]\n",
        "learning_rate=1e-4\n",
        "VectorLength=16\n",
        "nSupp=1 #beégetve az optim-nál és utána"
      ],
      "execution_count": null,
      "outputs": []
    },
    {
      "cell_type": "markdown",
      "metadata": {
        "id": "4eyzRJJJUiFC"
      },
      "source": [
        "###Graph"
      ]
    },
    {
      "cell_type": "code",
      "metadata": {
        "id": "6OTn9_VXXhm7",
        "colab": {
          "base_uri": "https://localhost:8080/",
          "height": 145
        },
        "outputId": "c0d570a4-1c36-48cf-fa17-2603835b474f"
      },
      "source": [
        "tf.reset_default_graph()\n",
        "\n",
        "# Support information - matrix\n",
        "s_imgs = tf.placeholder(tf.float32, [batchS, len(train_nums), nSupp]+size, name = \"s_imgs_ph\")   # batch size, n classes, n supp imgs / class\n",
        "\n",
        "# Query Information - vector\n",
        "q_img = tf.placeholder(tf.float32, [batchS]+size, name = \"q_img_ph\")    # batch size\n",
        "q_label = tf.placeholder(tf.int32, [batchS, len(train_nums)], name = \"q_label_ph\") # batch size, number of categories\n",
        "\n",
        "\n",
        "\n",
        "\"\"\"### Network Function\n",
        "Call for each support image (row of the support matrix) and for the query image.\n",
        "\"\"\"\n",
        "\n",
        "def create_network(img, size, First = False):\n",
        "  currInp = img\n",
        "  layer = 0\n",
        "  currFilt = size[2]\n",
        "  for k in nKernels: #[k0 = 16, k1 = 32, k3 = 64]\n",
        "    with tf.variable_scope('conv'+str(layer), reuse = not First) as varscope:\n",
        "      layer += 1\n",
        "      weight = tf.get_variable('weight', [3,3,currFilt,k])   # make parameters! \n",
        "      currFilt = k\n",
        "      bias = tf.get_variable('bias', [k], initializer=tf.constant_initializer(0.0))\n",
        "      convR = tf.nn.conv2d(currInp, weight, strides=[1,1,1,1], padding=\"SAME\")\n",
        "      convR = tf.add(convR, bias)\n",
        "      reluR = tf.nn.relu(convR)\n",
        "      poolR = tf.nn.max_pool(reluR, ksize=[1,2,2,1], strides=[1,2,2,1], padding=\"SAME\")\n",
        "      currInp = poolR\n",
        "  #add a fully connected at the end of the network this could modify the feature vector\n",
        "  with tf.variable_scope('FC', reuse = not First) as varscope:\n",
        "  \tCurrentShape=currInp.get_shape()\n",
        "\tFeatureLength = int(CurrentShape[1]*CurrentShape[2]*CurrentShape[3])\n",
        "\tFC = tf.reshape(currInp, [-1,FeatureLength])\n",
        "\tW = tf.get_variable('W',[FeatureLength,VectorLength])\n",
        "\tFC = tf.matmul(FC, W)\n",
        "\tBias = tf.get_variable('Bias',[VectorLength])\n",
        "\tFC = tf.add(FC, Bias)\n",
        "\tFC = tf.reshape(FC, [batchS,VectorLength,1,1])\n",
        "  return FC\n",
        "\n",
        "\n",
        "\n",
        "query_features = create_network(q_img, size, First = True)\n",
        "print query_features\n",
        "\n",
        "\n",
        "\n",
        "support_list = []\n",
        "query_list = []\n",
        "\n",
        "\n",
        "for k in range(len(train_nums)):#--------------------\n",
        "  slist=[]\n",
        "  qlist=[]\n",
        "  for i in range(nSupp):\n",
        "    slist.append(create_network(s_imgs[:, k, i, :, :, :], size))\n",
        "    qlist.append(query_features)\n",
        "  slist = tf.stack(slist)\n",
        "  qlist = tf.stack(qlist) \n",
        "  support_list.append(slist)\n",
        "  query_list.append(qlist)\n",
        "  \n",
        "query_repeat = tf.stack(query_list)\n",
        "supports = tf.stack(support_list)\n",
        "print query_repeat\n",
        "print supports\n",
        "\n",
        "\n",
        "\"\"\"### Loss\n",
        "Cosine distance calculation  \n",
        "Application of softmax  \n",
        "Minimize loss\n",
        "\"\"\"\n",
        "\n",
        "with tf.name_scope(\"loss\"):\n",
        "  dotProduct = tf.reduce_sum(tf.multiply(query_repeat, supports), [3,4,5])\n",
        "  supportsMagn = tf.reduce_sum(tf.square(supports), [3,4,5])\n",
        "  #supportsMagn = tf.reduce_sum(tf.square(supports), [3,4,5])\n",
        "  cosDist = dotProduct / tf.clip_by_value(supportsMagn, 1e-10, float(\"inf\"))\n",
        "  print cosDist\n",
        "  # per support\n",
        "  cosDist = tf.transpose(cosDist,[2,0,1])\n",
        "  print cosDist\n",
        "  #meancosDist per class:\n",
        "  MeanCosDist=  tf.reduce_mean(cosDist,2)\n",
        "  #maxcosDist per class:\n",
        "  MaxCostDist = tf.reduce_max(cosDist,2)\n",
        "\n",
        "\n",
        "  probs = tf.nn.softmax(MeanCosDist)  # defaults to last dimension\n",
        "\n",
        "  loss = tf.reduce_sum(tf.nn.softmax_cross_entropy_with_logits_v2(logits=MeanCosDist, labels=q_label))  # check if it's OK\n",
        "  print \"----------\"\n",
        "  print loss\n",
        "  \n",
        "  \n",
        "with tf.name_scope(\"optimizer\"):\n",
        "  optimizer = tf.train.AdamOptimizer(learning_rate).minimize(loss)\n",
        "\n",
        "  \n",
        "\n",
        "with tf.name_scope(\"accuracy\"):\n",
        "  max_class = tf.argmax(MaxCostDist, 1)\n",
        "  max_label = tf.argmax(q_label, 1)  \n",
        "  \n",
        "  total = tf.equal(max_class, max_label) \n",
        "  accuracy = tf.reduce_mean(tf.cast(total, tf.float32))\n"
      ],
      "execution_count": null,
      "outputs": [
        {
          "output_type": "stream",
          "text": [
            "Tensor(\"FC/Reshape_1:0\", shape=(32, 16, 1, 1), dtype=float32)\n",
            "Tensor(\"stack_6:0\", shape=(3, 1, 32, 16, 1, 1), dtype=float32)\n",
            "Tensor(\"stack_7:0\", shape=(3, 1, 32, 16, 1, 1), dtype=float32)\n",
            "Tensor(\"loss/div:0\", shape=(3, 1, 32), dtype=float32)\n",
            "Tensor(\"loss/transpose:0\", shape=(32, 3, 1), dtype=float32)\n",
            "----------\n",
            "Tensor(\"loss/Sum_2:0\", shape=(), dtype=float32)\n"
          ],
          "name": "stdout"
        }
      ]
    },
    {
      "cell_type": "code",
      "metadata": {
        "id": "SKz-bUq1LHgp"
      },
      "source": [
        ""
      ],
      "execution_count": null,
      "outputs": []
    }
  ]
}